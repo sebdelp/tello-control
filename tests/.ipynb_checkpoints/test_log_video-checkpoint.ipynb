{
 "cells": [
  {
   "cell_type": "markdown",
   "id": "6e09570c-4bdc-41e3-a1b3-ff9316e3fdb3",
   "metadata": {},
   "source": [
    "# Simple script to test the flight control\n",
    "The drone is going to :\n",
    "* takeoff\n",
    "* log data\n",
    "* log messages\n",
    "* grab & display a frame\n",
    "* record video file\n",
    "\n",
    "\n",
    "Please connect the base station do the drone wifi and that there is enough space! "
   ]
  },
  {
   "cell_type": "code",
   "execution_count": 1,
   "id": "ac3cdc9c-3de1-4d8c-8e0d-1a9d5de74f51",
   "metadata": {},
   "outputs": [],
   "source": [
    "import tello_ctrl\n",
    "import time\n",
    "import cv2"
   ]
  },
  {
   "cell_type": "markdown",
   "id": "6deeee7c-bd80-44f1-8e62-22dda413f718",
   "metadata": {},
   "source": [
    "Connect and takeoff"
   ]
  },
  {
   "cell_type": "code",
   "execution_count": 2,
   "id": "d7ecc63d-5211-4e21-ae46-abce088c1bb0",
   "metadata": {},
   "outputs": [
    {
     "ename": "tello_ctrlException",
     "evalue": "Connection timeout",
     "output_type": "error",
     "traceback": [
      "\u001b[1;31m---------------------------------------------------------------------------\u001b[0m",
      "\u001b[1;31mtello_ctrlException\u001b[0m                    Traceback (most recent call last)",
      "Cell \u001b[1;32mIn[2], line 2\u001b[0m\n\u001b[0;32m      1\u001b[0m drone\u001b[38;5;241m=\u001b[39mtello_ctrl\u001b[38;5;241m.\u001b[39mtello_ctrl()\n\u001b[1;32m----> 2\u001b[0m \u001b[43mdrone\u001b[49m\u001b[38;5;241;43m.\u001b[39;49m\u001b[43mconnect\u001b[49m\u001b[43m(\u001b[49m\u001b[43m)\u001b[49m\n\u001b[0;32m      3\u001b[0m \u001b[38;5;66;03m#drone.takeoff()\u001b[39;00m\n",
      "File \u001b[1;32mD:\\seb\\Cours\\INSA\\AUTO\\Cours - I2A\\Projet Integratif S6 drone\\Toolbox Development\\SourceCode\\python\\tello-control\\tello_ctrl\\tello_ctrl.py:194\u001b[0m, in \u001b[0;36mtello_ctrl.connect\u001b[1;34m(self, timeout)\u001b[0m\n\u001b[0;32m    192\u001b[0m \u001b[38;5;28mself\u001b[39m\u001b[38;5;241m.\u001b[39m__conected\u001b[38;5;241m.\u001b[39mclear()\n\u001b[0;32m    193\u001b[0m \u001b[38;5;28;01mif\u001b[39;00m \u001b[38;5;129;01mnot\u001b[39;00m \u001b[38;5;28mself\u001b[39m\u001b[38;5;241m.\u001b[39m__conected\u001b[38;5;241m.\u001b[39mwait(timeout):\n\u001b[1;32m--> 194\u001b[0m     \u001b[38;5;28;01mraise\u001b[39;00m tello_ctrlException(\u001b[38;5;124m'\u001b[39m\u001b[38;5;124mConnection timeout\u001b[39m\u001b[38;5;124m'\u001b[39m)\n\u001b[0;32m    196\u001b[0m \u001b[38;5;66;03m# wait for the first log packet (so all the variables are available)\u001b[39;00m\n\u001b[0;32m    197\u001b[0m \u001b[38;5;28mself\u001b[39m\u001b[38;5;241m.\u001b[39m__LOGGER\u001b[38;5;241m.\u001b[39mdebug(\u001b[38;5;124m'\u001b[39m\u001b[38;5;124mConnect : Wait for first packet\u001b[39m\u001b[38;5;124m'\u001b[39m)\n",
      "\u001b[1;31mtello_ctrlException\u001b[0m: Connection timeout"
     ]
    }
   ],
   "source": [
    "drone=tello_ctrl.tello_ctrl()\n",
    "drone.connect()\n",
    "print('Battery : ',drone.get_battery())\n",
    "#drone.takeoff()"
   ]
  },
  {
   "cell_type": "markdown",
   "id": "b0ae31a7-fd58-44af-80a6-685e3e3cbe9b",
   "metadata": {},
   "source": [
    "Test message logging on the console"
   ]
  },
  {
   "cell_type": "code",
   "execution_count": null,
   "id": "c44e7aad-8719-4ef6-b806-6c4674332324",
   "metadata": {},
   "outputs": [],
   "source": [
    "drone.set_log_level(\"console\",\"DEBUG\")\n",
    "time.sleep(1)\n",
    "drone.set_log_level(\"console\",\"INFO\")\n",
    "time.sleep(1)\n",
    "drone.remove_console_logger()\n",
    "drone.add_console_logger(level='INFO')"
   ]
  },
  {
   "cell_type": "markdown",
   "id": "63643ba4-4e06-4266-9e65-462cda3c138d",
   "metadata": {},
   "source": [
    "Test message logging in a file"
   ]
  },
  {
   "cell_type": "code",
   "execution_count": null,
   "id": "65885bbe-df77-4c46-a303-8434b3305c76",
   "metadata": {},
   "outputs": [],
   "source": [
    "drone.add_file_logger('logfile.txt',mode='w',level=\"DEBUG\")\n",
    "time.sleep(1)\n",
    "drone.set_log_level(\"file\",\"INFO\")\n",
    "time.sleep(1)\n",
    "drone.remove_file_logger()\n",
    "drone.add_file_logger('logfile.txt',mode='w',level=\"DEBUG\")\n"
   ]
  },
  {
   "cell_type": "markdown",
   "id": "ae01f468-5862-4d0a-b639-128f5a2d92cd",
   "metadata": {},
   "source": [
    "Test video"
   ]
  },
  {
   "cell_type": "code",
   "execution_count": null,
   "id": "24110f6b-0159-4621-a8f2-59588f1c875a",
   "metadata": {},
   "outputs": [],
   "source": [
    "drone.start_receiving_video()"
   ]
  },
  {
   "cell_type": "markdown",
   "id": "e7c8ab5e-d16a-4061-a7c0-12e633c43d06",
   "metadata": {},
   "source": [
    "Display a frame"
   ]
  },
  {
   "cell_type": "code",
   "execution_count": null,
   "id": "62a5da3a-82d1-4677-9cb4-d6d0896b009a",
   "metadata": {},
   "outputs": [],
   "source": [
    "img=drone.get_frame()\n",
    "(img,no)=drone.get_frame_with(no)\n",
    "cv2.imshow('Tello drone',img)\n",
    "cv2.waitKey(1) # force cv2 to display the image now"
   ]
  },
  {
   "cell_type": "code",
   "execution_count": null,
   "id": "6f35fd0c-0d20-4c7f-b1f5-12996df2f3cf",
   "metadata": {},
   "outputs": [],
   "source": [
    "drone.start_recording_video_to_file('demo.mkv',frame_skip=0)"
   ]
  },
  {
   "cell_type": "code",
   "execution_count": null,
   "id": "d506d01a-f231-4904-875a-7df6ae85caaf",
   "metadata": {},
   "outputs": [],
   "source": [
    "drone.set_yaw(20)\n",
    "time.sleep(3)\n",
    "drone.set_yaw(0)"
   ]
  },
  {
   "cell_type": "code",
   "execution_count": null,
   "id": "967a141f-52e9-4c13-8d40-abcd4d367b0b",
   "metadata": {},
   "outputs": [],
   "source": [
    "drone.stop_recording_video_to_file()"
   ]
  },
  {
   "cell_type": "markdown",
   "id": "43c65ea5-e900-4263-b698-3c906ba30455",
   "metadata": {},
   "source": [
    "Log data to a csv file"
   ]
  },
  {
   "cell_type": "code",
   "execution_count": null,
   "id": "4a303f84-7a66-4076-80fd-5258f5577592",
   "metadata": {},
   "outputs": [],
   "source": [
    "drone.start_data_logging('demo.csv',sampling_time=0.1)"
   ]
  },
  {
   "cell_type": "code",
   "execution_count": null,
   "id": "427f848c-cbc5-4fd2-b7ba-33acf5f49ca1",
   "metadata": {},
   "outputs": [],
   "source": [
    "for i in range(3):\n",
    "    if mod(i,2)==0:\n",
    "        drone.move_forward(10)\n",
    "    else\n",
    "        drone.move_backward(10)\n",
    "    time.sleep(1)\n",
    "    \n",
    "drone.move_forward(0)"
   ]
  },
  {
   "cell_type": "code",
   "execution_count": null,
   "id": "c919a3d7-f596-43ae-aec6-080b3672826e",
   "metadata": {},
   "outputs": [],
   "source": [
    "drone.stop_data_logging('demo.csv',sampling_time=0.1)"
   ]
  },
  {
   "cell_type": "markdown",
   "id": "88de783f-8707-4cf1-9470-2656feac3a73",
   "metadata": {},
   "source": [
    "Log a subset of data"
   ]
  },
  {
   "cell_type": "code",
   "execution_count": null,
   "id": "757e0c15-b348-4416-ac46-db85e54e07af",
   "metadata": {},
   "outputs": [],
   "source": [
    "drone.start_data_logging('test2.csv', sensor_list=['posX','posY','posZ'], sampling_time=0.1)"
   ]
  },
  {
   "cell_type": "code",
   "execution_count": null,
   "id": "724e08e2-1427-4453-89c8-314fcb75af93",
   "metadata": {},
   "outputs": [],
   "source": [
    "for i in range(3):\n",
    "    if mod(i,2)==0:\n",
    "        drone.move_forward(10)\n",
    "    else\n",
    "        drone.move_backward(10)\n",
    "    time.sleep(1)\n",
    "    \n",
    "drone.move_forward(0)"
   ]
  },
  {
   "cell_type": "code",
   "execution_count": null,
   "id": "824f6536-98a5-4af8-a01e-8970f8acad19",
   "metadata": {},
   "outputs": [],
   "source": [
    "drone.stop_data_logging"
   ]
  },
  {
   "cell_type": "code",
   "execution_count": null,
   "id": "ef05c634-e326-476a-97cf-f0554b85c064",
   "metadata": {},
   "outputs": [],
   "source": [
    "drone.land()\n",
    "drone.quit()"
   ]
  }
 ],
 "metadata": {
  "kernelspec": {
   "display_name": "Python 3 (ipykernel)",
   "language": "python",
   "name": "python3"
  },
  "language_info": {
   "codemirror_mode": {
    "name": "ipython",
    "version": 3
   },
   "file_extension": ".py",
   "mimetype": "text/x-python",
   "name": "python",
   "nbconvert_exporter": "python",
   "pygments_lexer": "ipython3",
   "version": "3.10.11"
  }
 },
 "nbformat": 4,
 "nbformat_minor": 5
}
