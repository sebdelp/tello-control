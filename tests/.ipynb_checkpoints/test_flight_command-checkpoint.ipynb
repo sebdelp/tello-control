{
 "cells": [
  {
   "cell_type": "markdown",
   "id": "534c86d7-f10e-477d-865c-a18c4eff3f87",
   "metadata": {},
   "source": [
    "# Simple script to test the flight control\n",
    "The drone is going to :\n",
    "* takeoff\n",
    "* perform some movement (up/down/left/right/rotations, etc)\n",
    "* land\n",
    "\n",
    "Please connect the base station do the drone wifi and that there is enough space! "
   ]
  },
  {
   "cell_type": "code",
   "execution_count": 1,
   "id": "5d07b741-8563-452b-86e6-0f64a4f1ba56",
   "metadata": {},
   "outputs": [],
   "source": [
    "import tello_control\n",
    "import time"
   ]
  },
  {
   "cell_type": "markdown",
   "id": "fde444d1-75ac-4481-9379-749ad2c0f635",
   "metadata": {},
   "source": [
    "Create the drone object and connect the base station to the drone"
   ]
  },
  {
   "cell_type": "code",
   "execution_count": 2,
   "id": "290aaeea-ce01-4229-a184-01068d3cec3b",
   "metadata": {},
   "outputs": [],
   "source": [
    "drone=tello_control.tello_control()\n",
    "drone.connect()"
   ]
  },
  {
   "cell_type": "markdown",
   "id": "af3c0e5a-9012-4b8d-8be1-a35b2b0f69b0",
   "metadata": {},
   "source": [
    "Do some moves"
   ]
  },
  {
   "cell_type": "code",
   "execution_count": null,
   "id": "8e1a0ea0-cb91-48bd-bf15-af775853b6a8",
   "metadata": {},
   "outputs": [],
   "source": [
    "drone.takeoff()\n",
    "drone.move_backward(15)\n",
    "time.sleep(0.5)\n",
    "\n",
    "drone.move_forward(15)\n",
    "time.sleep(0.5)\n",
    "\n",
    "drone.move_up(15)\n",
    "time.sleep(0.5)\n",
    "\n",
    "drone.move_down(15)\n",
    "time.sleep(0.5)\n",
    "\n",
    "drone.move_right(15)\n",
    "time.sleep(0.5)\n",
    "\n",
    "drone.move_left(15)\n",
    "time.sleep(0.5)\n",
    "\n",
    "drone.move_counter_clockwise(15)\n",
    "time.sleep(0.5)\n",
    "\n",
    "drone.move_clockwise(15)\n",
    "time.sleep(0.5)\n",
    "\n",
    "drone.set_forward_backward(15)\n",
    "time.sleep(0.5)\n",
    "drone.set_forward_backward(-15)\n",
    "time.sleep(0.5)\n",
    "\n",
    "drone.set_left_right(15)\n",
    "time.sleep(0.5)\n",
    "drone.set_left_right(-15)\n",
    "time.sleep(0.5)\n",
    "\n",
    "drone.set_up_down(15)\n",
    "time.sleep(0.5)\n",
    "drone.set_up_down(-15)\n",
    "time.sleep(0.5)\n",
    "\n",
    "drone.set_yaw(15)\n",
    "time.sleep(0.5)\n",
    "drone.set_yaw(-15)\n",
    "time.sleep(0.5)"
   ]
  },
  {
   "cell_type": "code",
   "execution_count": null,
   "id": "3ffdac49-f83e-48ef-853e-160759ca6b42",
   "metadata": {},
   "outputs": [],
   "source": [
    "drone.set_fast_mode(True)\n",
    "drone.send_rc_control(10,0,0,0)\n",
    "time.sleep(0.5)\n",
    "drone.send_rc_control(-10,0,0,0)\n",
    "time.sleep(0.5)\n",
    "drone.send_rc_control(0,0,0,0)"
   ]
  },
  {
   "cell_type": "code",
   "execution_count": null,
   "id": "f15dbb56-379d-45b2-9b2f-bfda907d082f",
   "metadata": {},
   "outputs": [],
   "source": [
    "drone.send_rc_control(0,0,0,0)\n",
    "time.sleep(0.5)"
   ]
  },
  {
   "cell_type": "code",
   "execution_count": null,
   "id": "32934728-60ad-422d-b3c8-eac3c4e8abd9",
   "metadata": {},
   "outputs": [],
   "source": [
    "drone.land()\n",
    "drone.quit()"
   ]
  }
 ],
 "metadata": {
  "kernelspec": {
   "display_name": "Python 3 (ipykernel)",
   "language": "python",
   "name": "python3"
  },
  "language_info": {
   "codemirror_mode": {
    "name": "ipython",
    "version": 3
   },
   "file_extension": ".py",
   "mimetype": "text/x-python",
   "name": "python",
   "nbconvert_exporter": "python",
   "pygments_lexer": "ipython3",
   "version": "3.10.11"
  }
 },
 "nbformat": 4,
 "nbformat_minor": 5
}
