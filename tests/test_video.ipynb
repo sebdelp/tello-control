{
 "cells": [
  {
   "cell_type": "markdown",
   "id": "6e09570c-4bdc-41e3-a1b3-ff9316e3fdb3",
   "metadata": {},
   "source": [
    "# Simple script to test the flight control\n",
    "The drone is going to :\n",
    "* takeoff\n",
    "* grab & display a frame\n",
    "* record video file\n",
    "\n",
    "\n",
    "Please connect the base station do the drone wifi and that there is enough space! "
   ]
  },
  {
   "cell_type": "code",
   "execution_count": 1,
   "id": "ac3cdc9c-3de1-4d8c-8e0d-1a9d5de74f51",
   "metadata": {},
   "outputs": [],
   "source": [
    "import tello_control\n",
    "import time\n",
    "import cv2"
   ]
  },
  {
   "cell_type": "markdown",
   "id": "6deeee7c-bd80-44f1-8e62-22dda413f718",
   "metadata": {},
   "source": [
    "Connect and takeoff"
   ]
  },
  {
   "cell_type": "code",
   "execution_count": 2,
   "id": "d7ecc63d-5211-4e21-ae46-abce088c1bb0",
   "metadata": {},
   "outputs": [
    {
     "name": "stdout",
     "output_type": "stream",
     "text": [
      "Battery :  40\n"
     ]
    }
   ],
   "source": [
    "drone=tello_control.tello_control()\n",
    "drone.connect()\n",
    "time.sleep(1)\n",
    "print('Battery : ',drone.get_battery())\n",
    "#drone.takeoff()"
   ]
  },
  {
   "cell_type": "markdown",
   "id": "b0ae31a7-fd58-44af-80a6-685e3e3cbe9b",
   "metadata": {},
   "source": [
    "Test message logging on the console"
   ]
  },
  {
   "cell_type": "code",
   "execution_count": 3,
   "id": "c44e7aad-8719-4ef6-b806-6c4674332324",
   "metadata": {},
   "outputs": [],
   "source": [
    "drone.set_log_level(\"console\",\"ERROR\")\n",
    "drone.add_file_logger('logfile.txt',level=\"DEBUG\")"
   ]
  },
  {
   "cell_type": "markdown",
   "id": "ae01f468-5862-4d0a-b639-128f5a2d92cd",
   "metadata": {},
   "source": [
    "Test video"
   ]
  },
  {
   "cell_type": "code",
   "execution_count": 4,
   "id": "24110f6b-0159-4621-a8f2-59588f1c875a",
   "metadata": {},
   "outputs": [],
   "source": [
    "drone.start_receiving_video()"
   ]
  },
  {
   "cell_type": "markdown",
   "id": "e7c8ab5e-d16a-4061-a7c0-12e633c43d06",
   "metadata": {},
   "source": [
    "Display a frame"
   ]
  },
  {
   "cell_type": "code",
   "execution_count": 5,
   "id": "62a5da3a-82d1-4677-9cb4-d6d0896b009a",
   "metadata": {},
   "outputs": [
    {
     "ename": "AttributeError",
     "evalue": "'tello_control' object has no attribute '_tello_control__no'",
     "output_type": "error",
     "traceback": [
      "\u001b[1;31m---------------------------------------------------------------------------\u001b[0m",
      "\u001b[1;31mAttributeError\u001b[0m                            Traceback (most recent call last)",
      "Cell \u001b[1;32mIn[5], line 2\u001b[0m\n\u001b[0;32m      1\u001b[0m img\u001b[38;5;241m=\u001b[39mdrone\u001b[38;5;241m.\u001b[39mget_frame()\n\u001b[1;32m----> 2\u001b[0m (img,no)\u001b[38;5;241m=\u001b[39m\u001b[43mdrone\u001b[49m\u001b[38;5;241;43m.\u001b[39;49m\u001b[43mget_frame_with_no\u001b[49m\u001b[43m(\u001b[49m\u001b[43m)\u001b[49m\n\u001b[0;32m      3\u001b[0m cv2\u001b[38;5;241m.\u001b[39mimshow(\u001b[38;5;124m'\u001b[39m\u001b[38;5;124mTello drone\u001b[39m\u001b[38;5;124m'\u001b[39m,img)\n\u001b[0;32m      4\u001b[0m cv2\u001b[38;5;241m.\u001b[39mwaitKey(\u001b[38;5;241m1\u001b[39m) \u001b[38;5;66;03m# force cv2 to display the image now\u001b[39;00m\n",
      "File \u001b[1;32mD:\\seb\\Cours\\INSA\\AUTO\\Cours - I2A\\Projet Integratif S6 drone\\Toolbox Development\\SourceCode\\python\\tello-control\\tello_control\\tello_control.py:1669\u001b[0m, in \u001b[0;36mtello_control.get_frame_with_no\u001b[1;34m(self, timeout)\u001b[0m\n\u001b[0;32m   1667\u001b[0m             \u001b[38;5;28mself\u001b[39m\u001b[38;5;241m.\u001b[39m__LOGGER\u001b[38;5;241m.\u001b[39merror(\u001b[38;5;124m'\u001b[39m\u001b[38;5;124mTime out when receiving a frame\u001b[39m\u001b[38;5;124m'\u001b[39m)\n\u001b[0;32m   1668\u001b[0m         tmp\u001b[38;5;241m=\u001b[39m\u001b[38;5;28mself\u001b[39m\u001b[38;5;241m.\u001b[39m__frame\n\u001b[1;32m-> 1669\u001b[0m         no\u001b[38;5;241m=\u001b[39m\u001b[38;5;28;43mself\u001b[39;49m\u001b[38;5;241;43m.\u001b[39;49m\u001b[43m__no\u001b[49m\n\u001b[0;32m   1670\u001b[0m     \u001b[38;5;28;01mreturn\u001b[39;00m tmp, no\n\u001b[0;32m   1671\u001b[0m \u001b[38;5;28;01melse\u001b[39;00m:\n\u001b[0;32m   1672\u001b[0m     \u001b[38;5;66;03m# return the last available frame (eventually None if video was never activated)\u001b[39;00m\n",
      "\u001b[1;31mAttributeError\u001b[0m: 'tello_control' object has no attribute '_tello_control__no'"
     ]
    }
   ],
   "source": [
    "img=drone.get_frame()\n",
    "(img,no)=drone.get_frame_with_no()\n",
    "cv2.imshow('Tello drone',img)\n",
    "cv2.waitKey(1) # force cv2 to display the image now"
   ]
  },
  {
   "cell_type": "code",
   "execution_count": null,
   "id": "6f35fd0c-0d20-4c7f-b1f5-12996df2f3cf",
   "metadata": {},
   "outputs": [],
   "source": [
    "drone.start_recording_video_to_file('demo.mkv',frame_skip=0)"
   ]
  },
  {
   "cell_type": "code",
   "execution_count": null,
   "id": "d506d01a-f231-4904-875a-7df6ae85caaf",
   "metadata": {},
   "outputs": [],
   "source": [
    "drone.set_yaw(20)\n",
    "time.sleep(3)\n",
    "drone.set_yaw(0)"
   ]
  },
  {
   "cell_type": "code",
   "execution_count": null,
   "id": "967a141f-52e9-4c13-8d40-abcd4d367b0b",
   "metadata": {},
   "outputs": [],
   "source": [
    "drone.stop_recording_video_to_file()"
   ]
  },
  {
   "cell_type": "markdown",
   "id": "43c65ea5-e900-4263-b698-3c906ba30455",
   "metadata": {},
   "source": [
    "Log data to a csv file"
   ]
  },
  {
   "cell_type": "code",
   "execution_count": null,
   "id": "824f6536-98a5-4af8-a01e-8970f8acad19",
   "metadata": {},
   "outputs": [],
   "source": [
    "drone.stop_receiving_video()"
   ]
  },
  {
   "cell_type": "code",
   "execution_count": null,
   "id": "39d4c9d8-3dfd-4f2c-acff-a7968337d3e0",
   "metadata": {},
   "outputs": [],
   "source": []
  },
  {
   "cell_type": "code",
   "execution_count": null,
   "id": "ef05c634-e326-476a-97cf-f0554b85c064",
   "metadata": {},
   "outputs": [],
   "source": [
    "drone.land()\n",
    "drone.quit()"
   ]
  }
 ],
 "metadata": {
  "kernelspec": {
   "display_name": "Python 3 (ipykernel)",
   "language": "python",
   "name": "python3"
  },
  "language_info": {
   "codemirror_mode": {
    "name": "ipython",
    "version": 3
   },
   "file_extension": ".py",
   "mimetype": "text/x-python",
   "name": "python",
   "nbconvert_exporter": "python",
   "pygments_lexer": "ipython3",
   "version": "3.10.11"
  }
 },
 "nbformat": 4,
 "nbformat_minor": 5
}
