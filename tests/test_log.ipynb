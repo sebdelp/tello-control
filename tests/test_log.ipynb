{
 "cells": [
  {
   "cell_type": "markdown",
   "id": "6e09570c-4bdc-41e3-a1b3-ff9316e3fdb3",
   "metadata": {},
   "source": [
    "# Simple script to test the data logging\n",
    "The drone is going to take off and makes some movement while\n",
    "* logging data\n",
    "* logging messages\n"
   ]
  },
  {
   "cell_type": "code",
   "execution_count": 1,
   "id": "ac3cdc9c-3de1-4d8c-8e0d-1a9d5de74f51",
   "metadata": {},
   "outputs": [],
   "source": [
    "import tello_ctrl\n",
    "import time"
   ]
  },
  {
   "cell_type": "markdown",
   "id": "6deeee7c-bd80-44f1-8e62-22dda413f718",
   "metadata": {},
   "source": [
    "Connect and takeoff"
   ]
  },
  {
   "cell_type": "code",
   "execution_count": 2,
   "id": "d7ecc63d-5211-4e21-ae46-abce088c1bb0",
   "metadata": {},
   "outputs": [
    {
     "name": "stderr",
     "output_type": "stream",
     "text": [
      "[2024-04-03 15:16:25,760 DEBUG] protocol.py - 396 - LogData: UNHANDLED LOG DATA: id= 1710, length=   6\n",
      "[2024-04-03 15:16:25,811 DEBUG] protocol.py - 396 - LogData: UNHANDLED LOG DATA: id=   16, length=   4\n",
      "[2024-04-03 15:16:25,863 DEBUG] protocol.py - 396 - LogData: UNHANDLED LOG DATA: id=   12, length=  55\n"
     ]
    }
   ],
   "source": [
    "drone=tello_ctrl.tello_ctrl()\n",
    "drone.connect()\n"
   ]
  },
  {
   "cell_type": "markdown",
   "id": "b0ae31a7-fd58-44af-80a6-685e3e3cbe9b",
   "metadata": {},
   "source": [
    "Test message logging on the console"
   ]
  },
  {
   "cell_type": "code",
   "execution_count": 3,
   "id": "c44e7aad-8719-4ef6-b806-6c4674332324",
   "metadata": {},
   "outputs": [],
   "source": [
    "drone.set_log_level(\"console\",\"DEBUG\")\n",
    "time.sleep(1)\n",
    "drone.set_log_level(\"console\",\"INFO\")\n",
    "time.sleep(1)\n",
    "drone.remove_console_logger()\n",
    "drone.add_console_logger(level='INFO')"
   ]
  },
  {
   "cell_type": "markdown",
   "id": "63643ba4-4e06-4266-9e65-462cda3c138d",
   "metadata": {},
   "source": [
    "Test message logging in a file"
   ]
  },
  {
   "cell_type": "code",
   "execution_count": 4,
   "id": "65885bbe-df77-4c46-a303-8434b3305c76",
   "metadata": {},
   "outputs": [],
   "source": [
    "drone.add_file_logger('logfile.txt',mode='w',level=\"DEBUG\")\n",
    "time.sleep(1)\n",
    "drone.set_log_level(\"file\",\"INFO\")\n",
    "time.sleep(1)\n",
    "drone.remove_file_logger()\n",
    "drone.add_file_logger('logfile.txt',mode='w',level=\"DEBUG\")\n"
   ]
  },
  {
   "cell_type": "markdown",
   "id": "43c65ea5-e900-4263-b698-3c906ba30455",
   "metadata": {},
   "source": [
    "Log data to a csv file"
   ]
  },
  {
   "cell_type": "code",
   "execution_count": 5,
   "id": "fcbea4f7-f7a4-414a-8868-0e5092777ebc",
   "metadata": {},
   "outputs": [
    {
     "name": "stderr",
     "output_type": "stream",
     "text": [
      "[2024-04-03 15:16:29,761 INFO] tello_ctrl.py - 520 - set altitude limit 30m\n",
      "[2024-04-03 15:16:29,763 INFO] tello_ctrl.py - 525 - takeoff (cmd=0x54 seq=0x01e4)\n"
     ]
    },
    {
     "name": "stdout",
     "output_type": "stream",
     "text": [
      "Battery :  68\n"
     ]
    }
   ],
   "source": [
    "drone.takeoff()\n",
    "print('Battery : ',drone.get_battery())"
   ]
  },
  {
   "cell_type": "code",
   "execution_count": 6,
   "id": "4a303f84-7a66-4076-80fd-5258f5577592",
   "metadata": {},
   "outputs": [
    {
     "name": "stderr",
     "output_type": "stream",
     "text": [
      "[2024-04-03 15:16:33,312 INFO] tello_ctrl.py - 1866 - Data logger started into file demo.csv with sampling time 0.10 and mode \"w\"\n"
     ]
    }
   ],
   "source": [
    "drone.start_data_logging('demo.csv',sampling_time=0.1)"
   ]
  },
  {
   "cell_type": "code",
   "execution_count": 7,
   "id": "427f848c-cbc5-4fd2-b7ba-33acf5f49ca1",
   "metadata": {},
   "outputs": [
    {
     "name": "stderr",
     "output_type": "stream",
     "text": [
      "[2024-04-03 15:16:33,334 INFO] tello_ctrl.py - 963 - forward(val=10)\n",
      "[2024-04-03 15:16:34,339 INFO] tello_ctrl.py - 974 - backward(val=10)\n",
      "[2024-04-03 15:16:35,344 INFO] tello_ctrl.py - 963 - forward(val=10)\n",
      "[2024-04-03 15:16:36,355 INFO] tello_ctrl.py - 963 - forward(val=0)\n"
     ]
    }
   ],
   "source": [
    "for i in range(3):\n",
    "    if i%2==0:\n",
    "        drone.move_forward(10)\n",
    "    else:\n",
    "        drone.move_backward(10)\n",
    "    time.sleep(1)\n",
    "    \n",
    "drone.move_forward(0)"
   ]
  },
  {
   "cell_type": "code",
   "execution_count": 8,
   "id": "c919a3d7-f596-43ae-aec6-080b3672826e",
   "metadata": {},
   "outputs": [
    {
     "name": "stderr",
     "output_type": "stream",
     "text": [
      "[2024-04-03 15:16:36,377 INFO] tello_ctrl.py - 1902 - Data logger stopped\n"
     ]
    }
   ],
   "source": [
    "drone.stop_data_logging()"
   ]
  },
  {
   "cell_type": "markdown",
   "id": "88de783f-8707-4cf1-9470-2656feac3a73",
   "metadata": {},
   "source": [
    "Log a subset of data"
   ]
  },
  {
   "cell_type": "code",
   "execution_count": 9,
   "id": "757e0c15-b348-4416-ac46-db85e54e07af",
   "metadata": {},
   "outputs": [
    {
     "name": "stderr",
     "output_type": "stream",
     "text": [
      "[2024-04-03 15:16:36,389 INFO] tello_ctrl.py - 1866 - Data logger started into file test2.csv with sampling time 0.10 and mode \"w\"\n"
     ]
    }
   ],
   "source": [
    "drone.start_data_logging('test2.csv', sensor_list=['posX','posY','posZ'], sampling_time=0.1)"
   ]
  },
  {
   "cell_type": "code",
   "execution_count": 10,
   "id": "724e08e2-1427-4453-89c8-314fcb75af93",
   "metadata": {},
   "outputs": [
    {
     "name": "stderr",
     "output_type": "stream",
     "text": [
      "[2024-04-03 15:16:36,404 INFO] tello_ctrl.py - 963 - forward(val=10)\n",
      "[2024-04-03 15:16:37,410 INFO] tello_ctrl.py - 974 - backward(val=10)\n",
      "[2024-04-03 15:16:38,417 INFO] tello_ctrl.py - 963 - forward(val=10)\n",
      "[2024-04-03 15:16:39,425 INFO] tello_ctrl.py - 963 - forward(val=0)\n"
     ]
    }
   ],
   "source": [
    "for i in range(3):\n",
    "    if i%2==0:\n",
    "        drone.move_forward(10)\n",
    "    else:\n",
    "        drone.move_backward(10)\n",
    "    time.sleep(1)\n",
    "    \n",
    "drone.move_forward(0)"
   ]
  },
  {
   "cell_type": "code",
   "execution_count": 11,
   "id": "824f6536-98a5-4af8-a01e-8970f8acad19",
   "metadata": {},
   "outputs": [
    {
     "name": "stderr",
     "output_type": "stream",
     "text": [
      "[2024-04-03 15:16:39,449 INFO] tello_ctrl.py - 1902 - Data logger stopped\n"
     ]
    }
   ],
   "source": [
    "drone.stop_data_logging()"
   ]
  },
  {
   "cell_type": "code",
   "execution_count": 12,
   "id": "ef05c634-e326-476a-97cf-f0554b85c064",
   "metadata": {},
   "outputs": [
    {
     "name": "stderr",
     "output_type": "stream",
     "text": [
      "[2024-04-03 15:16:39,461 INFO] tello_ctrl.py - 565 - land (cmd=0x55 seq=0x01e4)\n",
      "[2024-04-03 15:16:43,629 INFO] tello_ctrl.py - 929 - state transit State::connected -> State::quit\n",
      "[2024-04-03 15:16:43,739 INFO] tello_ctrl.py - 879 - Reception thread stopped\n"
     ]
    }
   ],
   "source": [
    "drone.land()\n",
    "drone.quit()"
   ]
  }
 ],
 "metadata": {
  "kernelspec": {
   "display_name": "Python 3 (ipykernel)",
   "language": "python",
   "name": "python3"
  },
  "language_info": {
   "codemirror_mode": {
    "name": "ipython",
    "version": 3
   },
   "file_extension": ".py",
   "mimetype": "text/x-python",
   "name": "python",
   "nbconvert_exporter": "python",
   "pygments_lexer": "ipython3",
   "version": "3.10.11"
  }
 },
 "nbformat": 4,
 "nbformat_minor": 5
}
